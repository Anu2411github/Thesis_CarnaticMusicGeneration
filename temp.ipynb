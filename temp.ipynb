{
 "cells": [
  {
   "cell_type": "code",
   "execution_count": 12,
   "metadata": {},
   "outputs": [],
   "source": [
    "import librosa\n",
    "import os\n",
    "import soundfile as sf\n",
    "import numpy as np\n"
   ]
  },
  {
   "cell_type": "code",
   "execution_count": 19,
   "metadata": {},
   "outputs": [],
   "source": [
    "sr = 16000\n",
    "n_fft = 400\n",
    "hop_length = 160\n",
    "\n",
    "generated_mel_segment = np.load('/home/msp/Anusha/Thesis_New/models/GAN_768_256_128/npy/generated_spectrogram_20.npy')\n",
    "generated_mel_segment = (generated_mel_segment + 1) / 2 \n",
    "# generated_mel_segment = librosa.db_to_power(generated_mel_segment)\n",
    "\n",
    "linear_spectrogram = librosa.feature.inverse.mel_to_stft(\n",
    "    generated_mel_segment, sr=sr, n_fft=n_fft, power=1.0\n",
    ")\n",
    "audio_signal = librosa.griffinlim(linear_spectrogram, n_iter=32, hop_length=hop_length, win_length=n_fft)\n",
    "sf.write('test.wav', audio_signal, sr)"
   ]
  },
  {
   "cell_type": "code",
   "execution_count": null,
   "metadata": {},
   "outputs": [],
   "source": []
  }
 ],
 "metadata": {
  "kernelspec": {
   "display_name": "myenv",
   "language": "python",
   "name": "python3"
  },
  "language_info": {
   "codemirror_mode": {
    "name": "ipython",
    "version": 3
   },
   "file_extension": ".py",
   "mimetype": "text/x-python",
   "name": "python",
   "nbconvert_exporter": "python",
   "pygments_lexer": "ipython3",
   "version": "3.11.6"
  }
 },
 "nbformat": 4,
 "nbformat_minor": 2
}
